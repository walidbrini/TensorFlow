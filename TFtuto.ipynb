{
  "nbformat": 4,
  "nbformat_minor": 0,
  "metadata": {
    "colab": {
      "provenance": [],
      "authorship_tag": "ABX9TyMNzPZEXqMo2f1J4vmUa3QT",
      "include_colab_link": true
    },
    "kernelspec": {
      "name": "python3",
      "display_name": "Python 3"
    },
    "language_info": {
      "name": "python"
    }
  },
  "cells": [
    {
      "cell_type": "markdown",
      "metadata": {
        "id": "view-in-github",
        "colab_type": "text"
      },
      "source": [
        "<a href=\"https://colab.research.google.com/github/walidbrini/TensorFlow/blob/main/TFtuto.ipynb\" target=\"_parent\"><img src=\"https://colab.research.google.com/assets/colab-badge.svg\" alt=\"Open In Colab\"/></a>"
      ]
    },
    {
      "cell_type": "code",
      "execution_count": 2,
      "metadata": {
        "colab": {
          "base_uri": "https://localhost:8080/"
        },
        "id": "06UMLsh26RUb",
        "outputId": "4035dcc6-421d-4ae1-e778-14795678c974"
      },
      "outputs": [
        {
          "output_type": "stream",
          "name": "stdout",
          "text": [
            "Cloning into 'practical-ml-vision-book'...\n",
            "remote: Enumerating objects: 1347, done.\u001b[K\n",
            "remote: Counting objects: 100% (316/316), done.\u001b[K\n",
            "remote: Compressing objects: 100% (293/293), done.\u001b[K\n",
            "remote: Total 1347 (delta 29), reused 309 (delta 22), pack-reused 1031\u001b[K\n",
            "Receiving objects: 100% (1347/1347), 289.29 MiB | 28.50 MiB/s, done.\n",
            "Resolving deltas: 100% (620/620), done.\n",
            "Checking out files: 100% (400/400), done.\n"
          ]
        }
      ],
      "source": [
        "!git clone https://github.com/GoogleCloudPlatform/practical-ml-vision-book.git"
      ]
    },
    {
      "cell_type": "code",
      "source": [
        "import tensorflow as tf\n",
        "import matplotlib as plt "
      ],
      "metadata": {
        "id": "nff0wkDS7UHi"
      },
      "execution_count": 5,
      "outputs": []
    },
    {
      "cell_type": "code",
      "source": [
        "#Read and decode image \n",
        "\n",
        "def read_and_decode(filename, reshape_dims):\n",
        " # 1. Read the file.\n",
        " img = tf.io.read_file(filename)\n",
        " # 2. Convert the compressed string to a 3D uint8 tensor.\n",
        " img = tf.image.decode_jpeg(img, channels=3)\n",
        " # 3. Convert 3D uint8 to floats in the [0,1] range.\n",
        " img = tf.image.convert_image_dtype(img, tf.float32)\n",
        " # 4. Resize the image to the desired size.\n",
        " return tf.image.resize(img, reshape_dims)"
      ],
      "metadata": {
        "id": "CB14jTXT7fSi"
      },
      "execution_count": 6,
      "outputs": []
    },
    {
      "cell_type": "code",
      "source": [
        "def show_image(filename):\n",
        " img = read_and_decode(filename, [IMG_HEIGHT, IMG_WIDTH])\n",
        " plt.imshow(img.numpy());\n"
      ],
      "metadata": {
        "id": "-n-Pm2177hah"
      },
      "execution_count": 7,
      "outputs": []
    },
    {
      "cell_type": "code",
      "source": [
        "print(type(read_and_decode(gs://cloud-ml-data/)))"
      ],
      "metadata": {
        "id": "TEefhvah9aKl"
      },
      "execution_count": null,
      "outputs": []
    }
  ]
}